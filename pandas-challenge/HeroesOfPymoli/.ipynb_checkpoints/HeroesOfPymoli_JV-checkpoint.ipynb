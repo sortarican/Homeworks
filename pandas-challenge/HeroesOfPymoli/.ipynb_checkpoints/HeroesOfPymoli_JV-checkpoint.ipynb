{
 "cells": [
  {
   "cell_type": "markdown",
   "metadata": {},
   "source": [
    "### Heroes Of Pymoli Data Analysis\n",
    "* Of the 1163 active players, the vast majority are male (84%). There also exists, a smaller, but notable proportion of female players (14%).\n",
    "\n",
    "* Our peak age demographic falls between 20-24 (44.8%) with secondary groups falling between 15-19 (18.60%) and 25-29 (13.4%).  \n",
    "-----"
   ]
  },
  {
   "cell_type": "markdown",
   "metadata": {},
   "source": [
    "### Note\n",
    "* Instructions have been included for each segment. You do not have to follow them exactly, but they are included to help you think through the steps."
   ]
  },
  {
   "cell_type": "code",
   "execution_count": 141,
   "metadata": {},
   "outputs": [
    {
     "data": {
      "text/html": [
       "<div>\n",
       "<style scoped>\n",
       "    .dataframe tbody tr th:only-of-type {\n",
       "        vertical-align: middle;\n",
       "    }\n",
       "\n",
       "    .dataframe tbody tr th {\n",
       "        vertical-align: top;\n",
       "    }\n",
       "\n",
       "    .dataframe thead th {\n",
       "        text-align: right;\n",
       "    }\n",
       "</style>\n",
       "<table border=\"1\" class=\"dataframe\">\n",
       "  <thead>\n",
       "    <tr style=\"text-align: right;\">\n",
       "      <th></th>\n",
       "      <th>Purchase ID</th>\n",
       "      <th>SN</th>\n",
       "      <th>Age</th>\n",
       "      <th>Gender</th>\n",
       "      <th>Item ID</th>\n",
       "      <th>Item Name</th>\n",
       "      <th>Price</th>\n",
       "    </tr>\n",
       "  </thead>\n",
       "  <tbody>\n",
       "    <tr>\n",
       "      <th>0</th>\n",
       "      <td>0</td>\n",
       "      <td>Lisim78</td>\n",
       "      <td>20</td>\n",
       "      <td>Male</td>\n",
       "      <td>108</td>\n",
       "      <td>Extraction, Quickblade Of Trembling Hands</td>\n",
       "      <td>3.53</td>\n",
       "    </tr>\n",
       "    <tr>\n",
       "      <th>1</th>\n",
       "      <td>1</td>\n",
       "      <td>Lisovynya38</td>\n",
       "      <td>40</td>\n",
       "      <td>Male</td>\n",
       "      <td>143</td>\n",
       "      <td>Frenzied Scimitar</td>\n",
       "      <td>1.56</td>\n",
       "    </tr>\n",
       "    <tr>\n",
       "      <th>2</th>\n",
       "      <td>2</td>\n",
       "      <td>Ithergue48</td>\n",
       "      <td>24</td>\n",
       "      <td>Male</td>\n",
       "      <td>92</td>\n",
       "      <td>Final Critic</td>\n",
       "      <td>4.88</td>\n",
       "    </tr>\n",
       "    <tr>\n",
       "      <th>3</th>\n",
       "      <td>3</td>\n",
       "      <td>Chamassasya86</td>\n",
       "      <td>24</td>\n",
       "      <td>Male</td>\n",
       "      <td>100</td>\n",
       "      <td>Blindscythe</td>\n",
       "      <td>3.27</td>\n",
       "    </tr>\n",
       "    <tr>\n",
       "      <th>4</th>\n",
       "      <td>4</td>\n",
       "      <td>Iskosia90</td>\n",
       "      <td>23</td>\n",
       "      <td>Male</td>\n",
       "      <td>131</td>\n",
       "      <td>Fury</td>\n",
       "      <td>1.44</td>\n",
       "    </tr>\n",
       "  </tbody>\n",
       "</table>\n",
       "</div>"
      ],
      "text/plain": [
       "   Purchase ID             SN  Age Gender  Item ID  \\\n",
       "0            0        Lisim78   20   Male      108   \n",
       "1            1    Lisovynya38   40   Male      143   \n",
       "2            2     Ithergue48   24   Male       92   \n",
       "3            3  Chamassasya86   24   Male      100   \n",
       "4            4      Iskosia90   23   Male      131   \n",
       "\n",
       "                                   Item Name  Price  \n",
       "0  Extraction, Quickblade Of Trembling Hands   3.53  \n",
       "1                          Frenzied Scimitar   1.56  \n",
       "2                               Final Critic   4.88  \n",
       "3                                Blindscythe   3.27  \n",
       "4                                       Fury   1.44  "
      ]
     },
     "execution_count": 141,
     "metadata": {},
     "output_type": "execute_result"
    }
   ],
   "source": [
    "# Dependencies and Setup\n",
    "import pandas as pd\n",
    "import numpy as np\n",
    "\n",
    "# File to Load (Remember to Change These)\n",
    "file_to_load = \"Resources/purchase_data.csv\"\n",
    "\n",
    "# Read Purchasing File and store into Pandas data frame\n",
    "purchase_data = pd.read_csv(file_to_load)\n",
    "\n",
    "purchase_data.head()"
   ]
  },
  {
   "cell_type": "markdown",
   "metadata": {},
   "source": [
    "## Player Count"
   ]
  },
  {
   "cell_type": "markdown",
   "metadata": {},
   "source": [
    "* Display the total number of players\n"
   ]
  },
  {
   "cell_type": "code",
   "execution_count": 142,
   "metadata": {},
   "outputs": [
    {
     "name": "stdout",
     "output_type": "stream",
     "text": [
      "Total Players: 576\n"
     ]
    }
   ],
   "source": [
    "tot_count = purchase_data.copy()\n",
    "\n",
    "num = tot_count[\"SN\"].value_counts().size\n",
    "\n",
    "print(f\"Total Players: {num}\")\n"
   ]
  },
  {
   "cell_type": "markdown",
   "metadata": {},
   "source": [
    "## Purchasing Analysis (Total)"
   ]
  },
  {
   "cell_type": "markdown",
   "metadata": {},
   "source": [
    "* Run basic calculations to obtain number of unique items, average price, etc.\n",
    "\n",
    "\n",
    "* Create a summary data frame to hold the results\n",
    "\n",
    "\n",
    "* Optional: give the displayed data cleaner formatting\n",
    "\n",
    "\n",
    "* Display the summary data frame\n"
   ]
  },
  {
   "cell_type": "code",
   "execution_count": 143,
   "metadata": {
    "scrolled": true
   },
   "outputs": [
    {
     "name": "stdout",
     "output_type": "stream",
     "text": [
      "   Unique Number of Items  Number of Purchases Total Revenue Average Price\n",
      "0                     179                  780     $2,379.77         $3.05\n"
     ]
    }
   ],
   "source": [
    "summ_purch = purchase_data.copy()\n",
    "\n",
    "summ_purch.head()\n",
    "\n",
    "uniq_items = summ_purch[\"Item ID\"].value_counts().size\n",
    "\n",
    "num_purch = summ_purch[\"Purchase ID\"].size\n",
    "\n",
    "tot_rev = summ_purch[\"Price\"].sum()\n",
    "\n",
    "avg_price = summ_purch[\"Price\"].mean()\n",
    "\n",
    "\n",
    "cats_ls = [uniq_items, num_purch, tot_rev, avg_price]\n",
    "\n",
    "summ_df = pd.DataFrame([cats_ls], columns =[\"Unique Number of Items\", \"Number of Purchases\", \\\n",
    "                                            \"Total Revenue\", \"Average Price\"])\n",
    "\n",
    "summ_df[\"Total Revenue\"] = summ_df[\"Total Revenue\"].map(\"${:,.2f}\".format)\n",
    "summ_df[\"Average Price\"] = summ_df[\"Average Price\"].map(\"${:.2f}\".format)\n",
    "\n",
    "print(summ_df)"
   ]
  },
  {
   "cell_type": "markdown",
   "metadata": {},
   "source": [
    "## Gender Demographics"
   ]
  },
  {
   "cell_type": "markdown",
   "metadata": {},
   "source": [
    "* Percentage and Count of Male Players\n",
    "\n",
    "\n",
    "* Percentage and Count of Female Players\n",
    "\n",
    "\n",
    "* Percentage and Count of Other / Non-Disclosed\n",
    "\n",
    "\n"
   ]
  },
  {
   "cell_type": "code",
   "execution_count": 144,
   "metadata": {},
   "outputs": [
    {
     "name": "stdout",
     "output_type": "stream",
     "text": [
      "                       Total Count Percentage of Players\n",
      "Male                           652                83.59%\n",
      "Female                         113                14.49%\n",
      "Other / Non-Disclosed           15                 1.92%\n"
     ]
    }
   ],
   "source": [
    "gend_dem = purchase_data.copy()\n",
    "\n",
    "male_ct = gend_dem[\"Gender\"].str.count(\"Male\").sum()\n",
    "\n",
    "female_ct = gend_dem[\"Gender\"].str.count(\"Female\").sum()\n",
    "\n",
    "third_ct = gend_dem[\"Gender\"].str.count(\"Other / Non-Disclosed\").sum()\n",
    "\n",
    "gendtot = (third_ct + male_ct + female_ct)\n",
    "\n",
    "gend_cts = [male_ct, female_ct, third_ct]\n",
    "\n",
    "gend_pcts = [100 * (male_ct/gendtot), 100 * (female_ct/gendtot), 100 * (third_ct/gendtot)]\n",
    "\n",
    "gend_ls = [gend_cts, gend_pcts]\n",
    "\n",
    "gend_prin = pd.DataFrame(list(zip(gend_cts, gend_pcts)), index =[\"Male\", \"Female\", \"Other / Non-Disclosed\"], \\\n",
    "                         columns =[\"Total Count\", \"Percentage of Players\"])\n",
    "\n",
    "gend_prin[\"Percentage of Players\"] = gend_prin[\"Percentage of Players\"].map(\"{:.2f}%\".format)\n",
    "\n",
    "print(gend_prin)"
   ]
  },
  {
   "cell_type": "markdown",
   "metadata": {},
   "source": [
    "\n",
    "## Purchasing Analysis (Gender)"
   ]
  },
  {
   "cell_type": "markdown",
   "metadata": {},
   "source": [
    "* Run basic calculations to obtain purchase count, avg. purchase price, avg. purchase total per person etc. by gender\n",
    "\n",
    "\n",
    "\n",
    "\n",
    "* Create a summary data frame to hold the results\n",
    "\n",
    "\n",
    "* Optional: give the displayed data cleaner formatting\n",
    "\n",
    "\n",
    "* Display the summary data frame"
   ]
  },
  {
   "cell_type": "code",
   "execution_count": 145,
   "metadata": {},
   "outputs": [
    {
     "data": {
      "text/html": [
       "<div>\n",
       "<style scoped>\n",
       "    .dataframe tbody tr th:only-of-type {\n",
       "        vertical-align: middle;\n",
       "    }\n",
       "\n",
       "    .dataframe tbody tr th {\n",
       "        vertical-align: top;\n",
       "    }\n",
       "\n",
       "    .dataframe thead th {\n",
       "        text-align: right;\n",
       "    }\n",
       "</style>\n",
       "<table border=\"1\" class=\"dataframe\">\n",
       "  <thead>\n",
       "    <tr style=\"text-align: right;\">\n",
       "      <th></th>\n",
       "      <th>Purchase Count</th>\n",
       "      <th>Average Purchase Price</th>\n",
       "      <th>Total Purchase Value</th>\n",
       "      <th>Avg Total Per Person</th>\n",
       "    </tr>\n",
       "    <tr>\n",
       "      <th>Gender</th>\n",
       "      <th></th>\n",
       "      <th></th>\n",
       "      <th></th>\n",
       "      <th></th>\n",
       "    </tr>\n",
       "  </thead>\n",
       "  <tbody>\n",
       "    <tr>\n",
       "      <th>Other / Non-Disclosed</th>\n",
       "      <td>15</td>\n",
       "      <td>$3.35</td>\n",
       "      <td>$50.19</td>\n",
       "      <td>$4.56</td>\n",
       "    </tr>\n",
       "    <tr>\n",
       "      <th>Female</th>\n",
       "      <td>113</td>\n",
       "      <td>$3.20</td>\n",
       "      <td>$361.94</td>\n",
       "      <td>$4.47</td>\n",
       "    </tr>\n",
       "    <tr>\n",
       "      <th>Male</th>\n",
       "      <td>652</td>\n",
       "      <td>$3.02</td>\n",
       "      <td>$1,967.64</td>\n",
       "      <td>$4.07</td>\n",
       "    </tr>\n",
       "  </tbody>\n",
       "</table>\n",
       "</div>"
      ],
      "text/plain": [
       "                       Purchase Count Average Purchase Price  \\\n",
       "Gender                                                         \n",
       "Other / Non-Disclosed              15                  $3.35   \n",
       "Female                            113                  $3.20   \n",
       "Male                              652                  $3.02   \n",
       "\n",
       "                      Total Purchase Value Avg Total Per Person  \n",
       "Gender                                                           \n",
       "Other / Non-Disclosed               $50.19                $4.56  \n",
       "Female                             $361.94                $4.47  \n",
       "Male                             $1,967.64                $4.07  "
      ]
     },
     "execution_count": 145,
     "metadata": {},
     "output_type": "execute_result"
    }
   ],
   "source": [
    "gend_purch = purchase_data.copy()\n",
    "\n",
    "#purchase count\n",
    "ml_ct = gend_purch[\"Gender\"].str.count(\"Male\").sum()\n",
    "\n",
    "fml_ct = gend_purch[\"Gender\"].str.count(\"Female\").sum()\n",
    "\n",
    "thr_ct = gend_purch[\"Gender\"].str.count(\"Other / Non-Disclosed\").sum()\n",
    "\n",
    "#average purchase price (sumif)/count from above\n",
    "thr_tp = gend_purch.loc[gend_purch[\"Gender\"] == \"Other / Non-Disclosed\", \"Price\"].sum()\n",
    "avg_thrp = (thr_tp / thr_ct)\n",
    "\n",
    "fml_tp = gend_purch.loc[gend_purch[\"Gender\"] == \"Female\", \"Price\"].sum()\n",
    "avg_fp = (fml_tp / fml_ct)\n",
    "\n",
    "ml_tp = gend_purch.loc[gend_purch[\"Gender\"] == \"Male\", \"Price\"].sum()\n",
    "avg_mp = (ml_tp / ml_ct)\n",
    "\n",
    "#unique players per gender\n",
    "uniq_df = gend_purch.groupby(\"Gender\")[\"SN\"].nunique()\n",
    "\n",
    "uniq3 = uniq_df.loc[\"Other / Non-Disclosed\"]\n",
    "uniqf = uniq_df.loc[\"Female\"]\n",
    "uniqm = uniq_df.loc[\"Male\"]\n",
    "\n",
    "\n",
    "#output df construction\n",
    "gend_df = pd.DataFrame({\n",
    "    \"Gender\": [\"Other / Non-Disclosed\", \"Female\", \"Male\"],\n",
    "    \"Purchase Count\": [thr_ct, fml_ct, ml_ct],\n",
    "    \"Average Purchase Price\": [avg_thrp, avg_fp, avg_mp],\n",
    "    \"Total Purchase Value\": [thr_tp, fml_tp, ml_tp],\n",
    "    \"Avg Total Per Person\": [(thr_tp / uniq3), (fml_tp / uniqf), (ml_tp / uniqm)]})\n",
    "\n",
    "#setting gender to index\n",
    "gend_df.set_index(\"Gender\", inplace = True)\n",
    "gend_df[\"Average Purchase Price\"] = gend_df[\"Average Purchase Price\"].map(\"${:.2f}\".format)\n",
    "gend_df[\"Total Purchase Value\"] = gend_df[\"Total Purchase Value\"].map(\"${:,.2f}\".format)\n",
    "gend_df[\"Avg Total Per Person\"] = gend_df[\"Avg Total Per Person\"].map(\"${:.2f}\".format)\n",
    "\n",
    "gend_df"
   ]
  },
  {
   "cell_type": "markdown",
   "metadata": {},
   "source": [
    "## Age Demographics"
   ]
  },
  {
   "cell_type": "markdown",
   "metadata": {},
   "source": [
    "* Establish bins for ages\n",
    "\n",
    "\n",
    "* Categorize the existing players using the age bins. Hint: use pd.cut()\n",
    "\n",
    "\n",
    "* Calculate the numbers and percentages by age group\n",
    "\n",
    "\n",
    "* Create a summary data frame to hold the results\n",
    "\n",
    "\n",
    "* Optional: round the percentage column to two decimal points\n",
    "\n",
    "\n",
    "* Display Age Demographics Table\n"
   ]
  },
  {
   "cell_type": "code",
   "execution_count": 146,
   "metadata": {},
   "outputs": [
    {
     "name": "stdout",
     "output_type": "stream",
     "text": [
      "           Total Count Percentage of Players\n",
      "Age Group                                   \n",
      "<10                 17                 2.95%\n",
      "10-14               22                 3.82%\n",
      "15-19              107                18.58%\n",
      "20-24              258                44.79%\n",
      "25-29               77                13.37%\n",
      "30-34               52                 9.03%\n",
      "35-39               31                 5.38%\n",
      "40+                 12                 2.08%\n"
     ]
    }
   ],
   "source": [
    "#count/sum by age bins on unique player SNs\n",
    "\n",
    "uniqdf = purchase_data.copy()\n",
    "\n",
    "#assign bins to unique SNs\n",
    "agebins = [0, 9, 14, 19, 24, 29, 34, 39, 120]\n",
    "bindex = [\"<10\", \"10-14\", \"15-19\", \"20-24\", \"25-29\", \"30-34\", \"35-39\", \"40+\"]\n",
    "\n",
    "uniqdf[\"Age Group\"] = pd.cut(uniqdf[\"Age\"], agebins, labels=bindex)\n",
    "\n",
    "sn_age = uniqdf.groupby(by=\"Age Group\", as_index=False).agg({\"SN\": pd.Series.nunique})\n",
    "\n",
    "sn_age.rename(columns = {\"SN\":\"Total Count\"}, inplace = True)\n",
    "\n",
    "sn_age.set_index(\"Age Group\", inplace = True)\n",
    "\n",
    "uniqsum = sn_age[\"Total Count\"].sum()\n",
    "\n",
    "sn_age[\"Percentage of Players\"] = (100 *(sn_age[\"Total Count\"] / uniqsum))\n",
    "\n",
    "sn_age[\"Percentage of Players\"] = sn_age[\"Percentage of Players\"].map(\"{:.2f}%\".format)\n",
    "\n",
    "print(sn_age)"
   ]
  },
  {
   "cell_type": "markdown",
   "metadata": {},
   "source": [
    "## Purchasing Analysis (Age)"
   ]
  },
  {
   "cell_type": "markdown",
   "metadata": {},
   "source": [
    "* Bin the purchase_data data frame by age\n",
    "\n",
    "\n",
    "* Run basic calculations to obtain purchase count, avg. purchase price, avg. purchase total per person etc. in the table below\n",
    "\n",
    "\n",
    "* Create a summary data frame to hold the results\n",
    "\n",
    "\n",
    "* Optional: give the displayed data cleaner formatting\n",
    "\n",
    "\n",
    "* Display the summary data frame"
   ]
  },
  {
   "cell_type": "code",
   "execution_count": 147,
   "metadata": {},
   "outputs": [
    {
     "name": "stdout",
     "output_type": "stream",
     "text": [
      "           Purchase Count Total Purchase Price Average Purchase Price  \\\n",
      "Age Group                                                               \n",
      "<10                    23               $77.13                  $3.35   \n",
      "10-14                  28               $82.78                  $2.96   \n",
      "15-19                 136              $412.89                  $3.04   \n",
      "20-24                 365            $1,114.06                  $3.05   \n",
      "25-29                 101              $293.00                  $2.90   \n",
      "\n",
      "          Avg Total Purchase per Person  \n",
      "Age Group                                \n",
      "<10                               $4.54  \n",
      "10-14                             $3.76  \n",
      "15-19                             $3.86  \n",
      "20-24                             $4.32  \n",
      "25-29                             $3.81  \n"
     ]
    }
   ],
   "source": [
    "purch_age = purchase_data.copy()\n",
    "\n",
    "#apply bins\n",
    "bin_ages = [0, 9, 14, 19, 24, 29, 34, 39, 120]\n",
    "bin_names = [\"<10\", \"10-14\", \"15-19\", \"20-24\", \"25-29\", \"30-34\", \"35-39\", \"40+\"]\n",
    "\n",
    "purch_age[\"Age Group\"] = pd.cut(purch_age[\"Age\"], bin_ages, labels=bin_names)\n",
    "\n",
    "#purchase count column\n",
    "\n",
    "age_tp = purch_age.groupby(by=\"Age Group\", as_index=False).agg({\"Purchase ID\": pd.Series.nunique})\n",
    "\n",
    "age_tp.rename(columns = {\"Purchase ID\":\"Purchase Count\"}, inplace = True)\n",
    "\n",
    "age_tp.set_index(\"Age Group\", inplace = True)\n",
    "\n",
    "#add col for avg pur price (sum / pur_count)\n",
    "\n",
    "#Total sum\n",
    "age_tp[\"Total Purchase Price\"] = purch_age.groupby(\"Age Group\")[\"Price\"].sum()\n",
    "\n",
    "#average purchase\n",
    "age_tp[\"Average Purchase Price\"] = (age_tp[\"Total Purchase Price\"] / age_tp[\"Purchase Count\"])\n",
    "\n",
    "#average total purchase per person\n",
    "#unique players\n",
    "uniqsn = purch_age.groupby(by=\"Age Group\", as_index=False).agg({\"SN\": pd.Series.nunique})\n",
    "\n",
    "uniqsn.rename(columns = {\"SN\":\"Total Count\"}, inplace = True)\n",
    "\n",
    "uniqsn.set_index(\"Age Group\", inplace = True)\n",
    "\n",
    "#uniq_ct = uniqsn[\"Total Count\"].sum()\n",
    "\n",
    "age_tp[\"Avg Total Purchase per Person\"] = (age_tp[\"Total Purchase Price\"] / uniqsn[\"Total Count\"])\n",
    "\n",
    "#format output\n",
    "age_tp[\"Total Purchase Price\"] = age_tp[\"Total Purchase Price\"].map(\"${:,.2f}\".format)\n",
    "age_tp[\"Average Purchase Price\"] = age_tp[\"Average Purchase Price\"].map(\"${:.2f}\".format)\n",
    "age_tp[\"Avg Total Purchase per Person\"] = age_tp[\"Avg Total Purchase per Person\"].map(\"${:.2f}\".format)\n",
    "\n",
    "print(age_tp.head())"
   ]
  },
  {
   "cell_type": "markdown",
   "metadata": {},
   "source": [
    "## Top Spenders"
   ]
  },
  {
   "cell_type": "markdown",
   "metadata": {},
   "source": [
    "* Run basic calculations to obtain the results in the table below\n",
    "\n",
    "\n",
    "* Create a summary data frame to hold the results\n",
    "\n",
    "\n",
    "* Sort the total purchase value column in descending order\n",
    "\n",
    "\n",
    "* Optional: give the displayed data cleaner formatting\n",
    "\n",
    "\n",
    "* Display a preview of the summary data frame\n",
    "\n"
   ]
  },
  {
   "cell_type": "code",
   "execution_count": 163,
   "metadata": {},
   "outputs": [
    {
     "name": "stdout",
     "output_type": "stream",
     "text": [
      "             Purchase Count Total Purchase Price Average Purchase Price\n",
      "SN                                                                     \n",
      "Lisosia93                 5               $18.96                  $3.79\n",
      "Iral74                    4               $13.62                  $3.40\n",
      "Idastidru52               4               $15.45                  $3.86\n",
      "Asur53                    3                $7.44                  $2.48\n",
      "Inguron55                 3               $11.11                  $3.70\n"
     ]
    }
   ],
   "source": [
    "top_spend = purchase_data.copy()\n",
    "\n",
    "#purchase count\n",
    "ts_df = top_spend.groupby(by=\"SN\", as_index=True).agg({\"Purchase ID\": pd.Series.nunique}).reset_index()\n",
    "\n",
    "ts_df.rename(columns = {\"Purchase ID\":\"Purchase Count\"}, inplace = True)\n",
    "\n",
    "ts_df.set_index(\"SN\", inplace = True)\n",
    "\n",
    "ts_df.sort_values(\"Purchase Count\", ascending=False, inplace = True)\n",
    "\n",
    "#total purch\n",
    "ts_df[\"Total Purchase Price\"] = top_spend.groupby(\"SN\")[\"Price\"].sum()\n",
    "\n",
    "#add col for avg pur price (sum / pur_count)\n",
    "#average purchase\n",
    "ts_df[\"Average Purchase Price\"] = (ts_df[\"Total Purchase Price\"] / ts_df[\"Purchase Count\"])\n",
    "\n",
    "#format output\n",
    "ts_df[\"Total Purchase Price\"] = ts_df[\"Total Purchase Price\"].map(\"${:,.2f}\".format)\n",
    "ts_df[\"Average Purchase Price\"] = ts_df[\"Average Purchase Price\"].map(\"${:.2f}\".format)\n",
    "\n",
    "print(ts_df.head())"
   ]
  },
  {
   "cell_type": "markdown",
   "metadata": {},
   "source": [
    "## Most Popular Items"
   ]
  },
  {
   "cell_type": "markdown",
   "metadata": {},
   "source": [
    "* Retrieve the Item ID, Item Name, and Item Price columns\n",
    "\n",
    "\n",
    "* Group by Item ID and Item Name. Perform calculations to obtain purchase count, item price, and total purchase value\n",
    "\n",
    "\n",
    "* Create a summary data frame to hold the results\n",
    "\n",
    "\n",
    "* Sort the purchase count column in descending order\n",
    "\n",
    "\n",
    "* Optional: give the displayed data cleaner formatting\n",
    "\n",
    "\n",
    "* Display a preview of the summary data frame\n",
    "\n"
   ]
  },
  {
   "cell_type": "code",
   "execution_count": 170,
   "metadata": {},
   "outputs": [
    {
     "name": "stdout",
     "output_type": "stream",
     "text": [
      "                                                      Purchase Count  \\\n",
      "Item ID Item Name                                                      \n",
      "92      Final Critic                                              13   \n",
      "178     Oathbreaker, Last Hope of the Breaking Storm              12   \n",
      "145     Fiery Glass Crusader                                       9   \n",
      "132     Persuasion                                                 9   \n",
      "108     Extraction, Quickblade Of Trembling Hands                  9   \n",
      "\n",
      "                                                     Total Purchase Value  \\\n",
      "Item ID Item Name                                                           \n",
      "92      Final Critic                                               $59.99   \n",
      "178     Oathbreaker, Last Hope of the Breaking Storm               $50.76   \n",
      "145     Fiery Glass Crusader                                       $41.22   \n",
      "132     Persuasion                                                 $28.99   \n",
      "108     Extraction, Quickblade Of Trembling Hands                  $31.77   \n",
      "\n",
      "                                                     Item Price  \n",
      "Item ID Item Name                                                \n",
      "92      Final Critic                                      $4.61  \n",
      "178     Oathbreaker, Last Hope of the Breaking Storm      $4.23  \n",
      "145     Fiery Glass Crusader                              $4.58  \n",
      "132     Persuasion                                        $3.22  \n",
      "108     Extraction, Quickblade Of Trembling Hands         $3.53  \n"
     ]
    }
   ],
   "source": [
    "popular = purchase_data.copy()\n",
    "\n",
    "#purchase count\n",
    "pop_df = popular.groupby(by=[\"Item ID\", \"Item Name\"], as_index = True).agg({\"Purchase ID\": pd.Series.nunique}).reset_index()\n",
    "\n",
    "pop_df.rename(columns = {\"Purchase ID\":\"Purchase Count\"}, inplace = True)\n",
    "\n",
    "pop_df.set_index([\"Item ID\", \"Item Name\"], inplace = True)\n",
    "\n",
    "pop_df.sort_values(\"Purchase Count\", ascending=False, inplace = True)\n",
    "\n",
    "#Total sum\n",
    "pop_df[\"Total Purchase Value\"] = popular.groupby([\"Item ID\", \"Item Name\"])[\"Price\"].sum()\n",
    "\n",
    "#Item price\n",
    "pop_df[\"Item Price\"] = (pop_df[\"Total Purchase Value\"] / pop_df[\"Purchase Count\"])\n",
    "\n",
    "#format output\n",
    "pop_df[\"Total Purchase Value\"] = pop_df[\"Total Purchase Value\"].map(\"${:,.2f}\".format)\n",
    "pop_df[\"Item Price\"] = pop_df[\"Item Price\"].map(\"${:,.2f}\".format)\n",
    "\n",
    "print(pop_df.head())"
   ]
  },
  {
   "cell_type": "markdown",
   "metadata": {},
   "source": [
    "## Most Profitable Items"
   ]
  },
  {
   "cell_type": "markdown",
   "metadata": {},
   "source": [
    "* Sort the above table by total purchase value in descending order\n",
    "\n",
    "\n",
    "* Optional: give the displayed data cleaner formatting\n",
    "\n",
    "\n",
    "* Display a preview of the data frame\n",
    "\n"
   ]
  },
  {
   "cell_type": "code",
   "execution_count": 182,
   "metadata": {
    "scrolled": true
   },
   "outputs": [
    {
     "name": "stdout",
     "output_type": "stream",
     "text": [
      "                                                      Purchase Count  \\\n",
      "Item ID Item Name                                                      \n",
      "92      Final Critic                                              13   \n",
      "178     Oathbreaker, Last Hope of the Breaking Storm              12   \n",
      "82      Nirvana                                                    9   \n",
      "145     Fiery Glass Crusader                                       9   \n",
      "103     Singed Scalpel                                             8   \n",
      "\n",
      "                                                     Total Purchase Value  \\\n",
      "Item ID Item Name                                                           \n",
      "92      Final Critic                                               $59.99   \n",
      "178     Oathbreaker, Last Hope of the Breaking Storm               $50.76   \n",
      "82      Nirvana                                                    $44.10   \n",
      "145     Fiery Glass Crusader                                       $41.22   \n",
      "103     Singed Scalpel                                             $34.80   \n",
      "\n",
      "                                                     Item Price  \n",
      "Item ID Item Name                                                \n",
      "92      Final Critic                                      $4.61  \n",
      "178     Oathbreaker, Last Hope of the Breaking Storm      $4.23  \n",
      "82      Nirvana                                           $4.90  \n",
      "145     Fiery Glass Crusader                              $4.58  \n",
      "103     Singed Scalpel                                    $4.35  \n"
     ]
    }
   ],
   "source": [
    "profitable = purchase_data.copy()\n",
    "\n",
    "#purchase count\n",
    "prof_df = profitable.groupby(by=[\"Item ID\", \"Item Name\"], as_index = True).agg({\"Purchase ID\": pd.Series.nunique}).reset_index()\n",
    "\n",
    "prof_df.rename(columns = {\"Purchase ID\":\"Purchase Count\"}, inplace = True)\n",
    "\n",
    "prof_df.set_index([\"Item ID\", \"Item Name\"], inplace = True)\n",
    "\n",
    "#Total sum\n",
    "prof_df[\"Total Purchase Value\"] = profitable.groupby([\"Item ID\", \"Item Name\"])[\"Price\"].sum()\n",
    "\n",
    "#Item price\n",
    "prof_df[\"Item Price\"] = (prof_df[\"Total Purchase Value\"] / prof_df[\"Purchase Count\"])\n",
    "\n",
    "#sort\n",
    "prof_df.sort_values(\"Total Purchase Value\", ascending = False, inplace = True)\n",
    "\n",
    "#format output\n",
    "prof_df[\"Total Purchase Value\"] = prof_df[\"Total Purchase Value\"].map(\"${:,.2f}\".format)\n",
    "prof_df[\"Item Price\"] = prof_df[\"Item Price\"].map(\"${:,.2f}\".format)\n",
    "\n",
    "\n",
    "print(prof_df.head())"
   ]
  },
  {
   "cell_type": "code",
   "execution_count": null,
   "metadata": {},
   "outputs": [],
   "source": []
  }
 ],
 "metadata": {
  "anaconda-cloud": {},
  "kernel_info": {
   "name": "python3"
  },
  "kernelspec": {
   "display_name": "PythonData",
   "language": "python",
   "name": "pythondata"
  },
  "language_info": {
   "codemirror_mode": {
    "name": "ipython",
    "version": 3
   },
   "file_extension": ".py",
   "mimetype": "text/x-python",
   "name": "python",
   "nbconvert_exporter": "python",
   "pygments_lexer": "ipython3",
   "version": "3.8.2"
  },
  "latex_envs": {
   "LaTeX_envs_menu_present": true,
   "autoclose": false,
   "autocomplete": true,
   "bibliofile": "biblio.bib",
   "cite_by": "apalike",
   "current_citInitial": 1,
   "eqLabelWithNumbers": true,
   "eqNumInitial": 1,
   "hotkeys": {
    "equation": "Ctrl-E",
    "itemize": "Ctrl-I"
   },
   "labels_anchors": false,
   "latex_user_defs": false,
   "report_style_numbering": false,
   "user_envs_cfg": false
  },
  "nteract": {
   "version": "0.2.0"
  }
 },
 "nbformat": 4,
 "nbformat_minor": 4
}
