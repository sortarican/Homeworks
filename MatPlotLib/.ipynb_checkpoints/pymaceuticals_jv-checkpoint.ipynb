{
 "cells": [
  {
   "cell_type": "markdown",
   "metadata": {},
   "source": [
    "## Observations and Insights "
   ]
  },
  {
   "cell_type": "markdown",
   "metadata": {},
   "source": []
  },
  {
   "cell_type": "code",
   "execution_count": 1,
   "metadata": {},
   "outputs": [
    {
     "data": {
      "text/html": [
       "<div>\n",
       "<style scoped>\n",
       "    .dataframe tbody tr th:only-of-type {\n",
       "        vertical-align: middle;\n",
       "    }\n",
       "\n",
       "    .dataframe tbody tr th {\n",
       "        vertical-align: top;\n",
       "    }\n",
       "\n",
       "    .dataframe thead th {\n",
       "        text-align: right;\n",
       "    }\n",
       "</style>\n",
       "<table border=\"1\" class=\"dataframe\">\n",
       "  <thead>\n",
       "    <tr style=\"text-align: right;\">\n",
       "      <th></th>\n",
       "      <th>Mouse ID</th>\n",
       "      <th>Drug Regimen</th>\n",
       "      <th>Sex</th>\n",
       "      <th>Age_months</th>\n",
       "      <th>Weight (g)</th>\n",
       "      <th>Timepoint</th>\n",
       "      <th>Tumor Volume (mm3)</th>\n",
       "      <th>Metastatic Sites</th>\n",
       "    </tr>\n",
       "  </thead>\n",
       "  <tbody>\n",
       "    <tr>\n",
       "      <th>0</th>\n",
       "      <td>k403</td>\n",
       "      <td>Ramicane</td>\n",
       "      <td>Male</td>\n",
       "      <td>21</td>\n",
       "      <td>16</td>\n",
       "      <td>0</td>\n",
       "      <td>45.000000</td>\n",
       "      <td>0</td>\n",
       "    </tr>\n",
       "    <tr>\n",
       "      <th>1</th>\n",
       "      <td>k403</td>\n",
       "      <td>Ramicane</td>\n",
       "      <td>Male</td>\n",
       "      <td>21</td>\n",
       "      <td>16</td>\n",
       "      <td>5</td>\n",
       "      <td>38.825898</td>\n",
       "      <td>0</td>\n",
       "    </tr>\n",
       "    <tr>\n",
       "      <th>2</th>\n",
       "      <td>k403</td>\n",
       "      <td>Ramicane</td>\n",
       "      <td>Male</td>\n",
       "      <td>21</td>\n",
       "      <td>16</td>\n",
       "      <td>10</td>\n",
       "      <td>35.014271</td>\n",
       "      <td>1</td>\n",
       "    </tr>\n",
       "    <tr>\n",
       "      <th>3</th>\n",
       "      <td>k403</td>\n",
       "      <td>Ramicane</td>\n",
       "      <td>Male</td>\n",
       "      <td>21</td>\n",
       "      <td>16</td>\n",
       "      <td>15</td>\n",
       "      <td>34.223992</td>\n",
       "      <td>1</td>\n",
       "    </tr>\n",
       "    <tr>\n",
       "      <th>4</th>\n",
       "      <td>k403</td>\n",
       "      <td>Ramicane</td>\n",
       "      <td>Male</td>\n",
       "      <td>21</td>\n",
       "      <td>16</td>\n",
       "      <td>20</td>\n",
       "      <td>32.997729</td>\n",
       "      <td>1</td>\n",
       "    </tr>\n",
       "  </tbody>\n",
       "</table>\n",
       "</div>"
      ],
      "text/plain": [
       "  Mouse ID Drug Regimen   Sex  Age_months  Weight (g)  Timepoint  \\\n",
       "0     k403     Ramicane  Male          21          16          0   \n",
       "1     k403     Ramicane  Male          21          16          5   \n",
       "2     k403     Ramicane  Male          21          16         10   \n",
       "3     k403     Ramicane  Male          21          16         15   \n",
       "4     k403     Ramicane  Male          21          16         20   \n",
       "\n",
       "   Tumor Volume (mm3)  Metastatic Sites  \n",
       "0           45.000000                 0  \n",
       "1           38.825898                 0  \n",
       "2           35.014271                 1  \n",
       "3           34.223992                 1  \n",
       "4           32.997729                 1  "
      ]
     },
     "execution_count": 1,
     "metadata": {},
     "output_type": "execute_result"
    }
   ],
   "source": [
    "# Dependencies and Setup\n",
    "import matplotlib.pyplot as plt\n",
    "import pandas as pd\n",
    "import scipy.stats as st\n",
    "import numpy as np\n",
    "\n",
    "# Study data files\n",
    "mouse_metadata_path = \"data/Mouse_metadata.csv\"\n",
    "study_results_path = \"data/Study_results.csv\"\n",
    "\n",
    "# Read the mouse data and the study results\n",
    "mouse_metadata = pd.read_csv(mouse_metadata_path)\n",
    "study_results = pd.read_csv(study_results_path)\n",
    "\n",
    "# Combine the data into a single dataset\n",
    "combo_mice = pd.merge(mouse_metadata, study_results, on=\"Mouse ID\")\n",
    "combo_mice.head()\n"
   ]
  },
  {
   "cell_type": "code",
   "execution_count": 17,
   "metadata": {},
   "outputs": [
    {
     "name": "stdout",
     "output_type": "stream",
     "text": [
      "Number of mice: 249\n"
     ]
    }
   ],
   "source": [
    "# Checking the number of mice in the DataFrame.\n",
    "total = combo_mice.copy()\n",
    "\n",
    "nbr = total[\"Mouse ID\"].value_counts().size\n",
    "\n",
    "print(f\"Number of mice: {nbr}\")"
   ]
  },
  {
   "cell_type": "code",
   "execution_count": 18,
   "metadata": {},
   "outputs": [
    {
     "name": "stdout",
     "output_type": "stream",
     "text": [
      "Duplicate mouse based on ID & Timepoint: g989\n"
     ]
    }
   ],
   "source": [
    "# Getting the duplicate mice by ID number that shows up for Mouse ID and Timepoint. \n",
    "dupid = combo_mice.copy()\n",
    "\n",
    "dupid1 = dupid[dupid.duplicated([\"Mouse ID\", \"Timepoint\"])]\n",
    "\n",
    "dupmouse = dupid1.iloc[0,0]\n",
    "\n",
    "print(f\"Duplicate mouse based on ID & Timepoint: {dupmouse}\")"
   ]
  },
  {
   "cell_type": "code",
   "execution_count": 19,
   "metadata": {},
   "outputs": [
    {
     "name": "stdout",
     "output_type": "stream",
     "text": [
      "All data for duplicate mouse:     Mouse ID Drug Regimen     Sex  Age_months  Weight (g)  Timepoint  \\\n",
      "909     g989     Propriva  Female          21          26          0   \n",
      "911     g989     Propriva  Female          21          26          5   \n",
      "913     g989     Propriva  Female          21          26         10   \n",
      "915     g989     Propriva  Female          21          26         15   \n",
      "917     g989     Propriva  Female          21          26         20   \n",
      "\n",
      "     Tumor Volume (mm3)  Metastatic Sites  \n",
      "909           45.000000                 0  \n",
      "911           47.570392                 0  \n",
      "913           49.880528                 0  \n",
      "915           53.442020                 0  \n",
      "917           54.657650                 1  \n"
     ]
    }
   ],
   "source": [
    "# Optional: Get all the data for the duplicate mouse ID. \n",
    "print(\"All data for duplicate mouse:\", dupid1)"
   ]
  },
  {
   "cell_type": "code",
   "execution_count": 23,
   "metadata": {},
   "outputs": [],
   "source": [
    "# Create a clean DataFrame by dropping the duplicate mouse by its ID.\n",
    "cleancopy = combo_mice.copy()\n",
    "  \n",
    "# dropping duplicate values\n",
    "dupref = cleancopy[cleancopy[\"Mouse ID\"] == \"g989\"].index\n",
    "\n",
    "# Delete these row indexes from dataFrame\n",
    "cleancopy.drop(dupref, inplace=True)\n",
    "\n",
    "#new1num = len(cleancopy.index)\n",
    "#new1num"
   ]
  },
  {
   "cell_type": "code",
   "execution_count": 25,
   "metadata": {},
   "outputs": [
    {
     "name": "stdout",
     "output_type": "stream",
     "text": [
      "New number of mice: 248\n"
     ]
    }
   ],
   "source": [
    "# Checking the number of mice in the clean DataFrame.\n",
    "newnbr = cleancopy[\"Mouse ID\"].value_counts().size\n",
    "\n",
    "print(f\"New number of mice: {newnbr}\")"
   ]
  },
  {
   "cell_type": "markdown",
   "metadata": {},
   "source": [
    "## Summary Statistics"
   ]
  },
  {
   "cell_type": "code",
   "execution_count": 26,
   "metadata": {},
   "outputs": [
    {
     "data": {
      "text/html": [
       "<div>\n",
       "<style scoped>\n",
       "    .dataframe tbody tr th:only-of-type {\n",
       "        vertical-align: middle;\n",
       "    }\n",
       "\n",
       "    .dataframe tbody tr th {\n",
       "        vertical-align: top;\n",
       "    }\n",
       "\n",
       "    .dataframe thead th {\n",
       "        text-align: right;\n",
       "    }\n",
       "</style>\n",
       "<table border=\"1\" class=\"dataframe\">\n",
       "  <thead>\n",
       "    <tr style=\"text-align: right;\">\n",
       "      <th></th>\n",
       "      <th>Mean Tumor Volume</th>\n",
       "      <th>Median Tumor Volume</th>\n",
       "      <th>Tumor Volume Variance</th>\n",
       "      <th>Tumor Volume Std. Dev.</th>\n",
       "      <th>Tumor Volume Std. Err.</th>\n",
       "    </tr>\n",
       "    <tr>\n",
       "      <th>Drug Regimen</th>\n",
       "      <th></th>\n",
       "      <th></th>\n",
       "      <th></th>\n",
       "      <th></th>\n",
       "      <th></th>\n",
       "    </tr>\n",
       "  </thead>\n",
       "  <tbody>\n",
       "    <tr>\n",
       "      <th>Capomulin</th>\n",
       "      <td>40.675741</td>\n",
       "      <td>41.557809</td>\n",
       "      <td>24.947764</td>\n",
       "      <td>4.994774</td>\n",
       "      <td>0.329346</td>\n",
       "    </tr>\n",
       "    <tr>\n",
       "      <th>Ceftamin</th>\n",
       "      <td>52.591172</td>\n",
       "      <td>51.776157</td>\n",
       "      <td>39.290177</td>\n",
       "      <td>6.268188</td>\n",
       "      <td>0.469821</td>\n",
       "    </tr>\n",
       "    <tr>\n",
       "      <th>Infubinol</th>\n",
       "      <td>52.884795</td>\n",
       "      <td>51.820584</td>\n",
       "      <td>43.128684</td>\n",
       "      <td>6.567243</td>\n",
       "      <td>0.492236</td>\n",
       "    </tr>\n",
       "    <tr>\n",
       "      <th>Ketapril</th>\n",
       "      <td>55.235638</td>\n",
       "      <td>53.698743</td>\n",
       "      <td>68.553577</td>\n",
       "      <td>8.279709</td>\n",
       "      <td>0.603860</td>\n",
       "    </tr>\n",
       "    <tr>\n",
       "      <th>Naftisol</th>\n",
       "      <td>54.331565</td>\n",
       "      <td>52.509285</td>\n",
       "      <td>66.173479</td>\n",
       "      <td>8.134708</td>\n",
       "      <td>0.596466</td>\n",
       "    </tr>\n",
       "    <tr>\n",
       "      <th>Placebo</th>\n",
       "      <td>54.033581</td>\n",
       "      <td>52.288934</td>\n",
       "      <td>61.168083</td>\n",
       "      <td>7.821003</td>\n",
       "      <td>0.581331</td>\n",
       "    </tr>\n",
       "    <tr>\n",
       "      <th>Propriva</th>\n",
       "      <td>52.320930</td>\n",
       "      <td>50.446266</td>\n",
       "      <td>43.852013</td>\n",
       "      <td>6.622085</td>\n",
       "      <td>0.544332</td>\n",
       "    </tr>\n",
       "    <tr>\n",
       "      <th>Ramicane</th>\n",
       "      <td>40.216745</td>\n",
       "      <td>40.673236</td>\n",
       "      <td>23.486704</td>\n",
       "      <td>4.846308</td>\n",
       "      <td>0.320955</td>\n",
       "    </tr>\n",
       "    <tr>\n",
       "      <th>Stelasyn</th>\n",
       "      <td>54.233149</td>\n",
       "      <td>52.431737</td>\n",
       "      <td>59.450562</td>\n",
       "      <td>7.710419</td>\n",
       "      <td>0.573111</td>\n",
       "    </tr>\n",
       "    <tr>\n",
       "      <th>Zoniferol</th>\n",
       "      <td>53.236507</td>\n",
       "      <td>51.818479</td>\n",
       "      <td>48.533355</td>\n",
       "      <td>6.966589</td>\n",
       "      <td>0.516398</td>\n",
       "    </tr>\n",
       "  </tbody>\n",
       "</table>\n",
       "</div>"
      ],
      "text/plain": [
       "              Mean Tumor Volume  Median Tumor Volume  Tumor Volume Variance  \\\n",
       "Drug Regimen                                                                  \n",
       "Capomulin             40.675741            41.557809              24.947764   \n",
       "Ceftamin              52.591172            51.776157              39.290177   \n",
       "Infubinol             52.884795            51.820584              43.128684   \n",
       "Ketapril              55.235638            53.698743              68.553577   \n",
       "Naftisol              54.331565            52.509285              66.173479   \n",
       "Placebo               54.033581            52.288934              61.168083   \n",
       "Propriva              52.320930            50.446266              43.852013   \n",
       "Ramicane              40.216745            40.673236              23.486704   \n",
       "Stelasyn              54.233149            52.431737              59.450562   \n",
       "Zoniferol             53.236507            51.818479              48.533355   \n",
       "\n",
       "              Tumor Volume Std. Dev.  Tumor Volume Std. Err.  \n",
       "Drug Regimen                                                  \n",
       "Capomulin                   4.994774                0.329346  \n",
       "Ceftamin                    6.268188                0.469821  \n",
       "Infubinol                   6.567243                0.492236  \n",
       "Ketapril                    8.279709                0.603860  \n",
       "Naftisol                    8.134708                0.596466  \n",
       "Placebo                     7.821003                0.581331  \n",
       "Propriva                    6.622085                0.544332  \n",
       "Ramicane                    4.846308                0.320955  \n",
       "Stelasyn                    7.710419                0.573111  \n",
       "Zoniferol                   6.966589                0.516398  "
      ]
     },
     "execution_count": 26,
     "metadata": {},
     "output_type": "execute_result"
    }
   ],
   "source": [
    "# Generate a summary statistics table of mean, median, variance, standard deviation, and SEM of the tumor volume for each regimen\n",
    "summcopy = cleancopy.copy()\n",
    "\n",
    "tumvol = summcopy[[\"Drug Regimen\", \"Tumor Volume (mm3)\"]]\n",
    "\n",
    "tumvol.set_index(\"Drug Regimen\")\n",
    "\n",
    "tv_mean = tumvol.groupby(\"Drug Regimen\")[\"Tumor Volume (mm3)\"].mean().to_frame()\n",
    "\n",
    "tv_median = tumvol.groupby(\"Drug Regimen\")[\"Tumor Volume (mm3)\"].median().to_frame()\n",
    "\n",
    "tv_var = tumvol.groupby(\"Drug Regimen\")[\"Tumor Volume (mm3)\"].var().to_frame()\n",
    "\n",
    "tv_std = tumvol.groupby(\"Drug Regimen\")[\"Tumor Volume (mm3)\"].std().to_frame()\n",
    "\n",
    "tv_sem = tumvol.groupby(\"Drug Regimen\")[\"Tumor Volume (mm3)\"].sem().to_frame()\n",
    "\n",
    "tv_ls = [tv_mean, tv_median, tv_var, tv_std, tv_sem]\n",
    "\n",
    "tv_combo = tv_mean\n",
    "\n",
    "tv_combo.rename(columns = {\"Tumor Volume (mm3)\":\"Mean Tumor Volume\"}, inplace = True)\n",
    "\n",
    "tv_combo[\"Median Tumor Volume\"] = tv_median\n",
    "\n",
    "tv_combo[\"Tumor Volume Variance\"] = tv_var\n",
    "\n",
    "tv_combo[\"Tumor Volume Std. Dev.\"] = tv_std\n",
    "\n",
    "tv_combo[\"Tumor Volume Std. Err.\"] = tv_sem\n",
    "\n",
    "tv_combo"
   ]
  },
  {
   "cell_type": "code",
   "execution_count": 8,
   "metadata": {
    "scrolled": true
   },
   "outputs": [],
   "source": [
    "# Generate a summary statistics table of mean, median, variance, standard deviation, and SEM of the tumor volume for each regimen"
   ]
  },
  {
   "cell_type": "markdown",
   "metadata": {},
   "source": [
    "## Bar Plots"
   ]
  },
  {
   "cell_type": "code",
   "execution_count": 27,
   "metadata": {},
   "outputs": [
    {
     "data": {
      "text/plain": [
       "<matplotlib.axes._subplots.AxesSubplot at 0x11b2c9190>"
      ]
     },
     "execution_count": 27,
     "metadata": {},
     "output_type": "execute_result"
    },
    {
     "data": {
      "image/png": "[encoded data removed]",
      "text/plain": [
       "<Figure size 432x288 with 1 Axes>"
      ]
     },
     "metadata": {
      "needs_background": "light"
     },
     "output_type": "display_data"
    }
   ],
   "source": [
    "# Generate a bar plot showing the number of mice per time point for each treatment throughout the course of the study using pandas. \n",
    "barcopy = cleancopy.copy()\n",
    "\n",
    "#establish counts\n",
    "timect = barcopy[[\"Drug Regimen\", \"Timepoint\"]]\n",
    "timect.set_index(\"Drug Regimen\", drop=True, inplace=True)\n",
    "tm_ct = timect.groupby(\"Drug Regimen\")[\"Timepoint\"].count().to_frame()\n",
    "\n",
    "tm_ct.rename(columns = {\"Timepoint\":\"Number of Datapoints\"}, inplace = True)\n",
    "\n",
    "tm_ct.sort_values(by=\"Number of Datapoints\", ascending=False,inplace = True)\n",
    "\n",
    "#df.plot\n",
    "tm2 = tm_ct.plot.bar()\n",
    "\n",
    "tm2"
   ]
  },
  {
   "cell_type": "code",
   "execution_count": 28,
   "metadata": {},
   "outputs": [
    {
     "data": {
      "image/png": "[encoded data removed]",
      "text/plain": [
       "<Figure size 432x288 with 1 Axes>"
      ]
     },
     "metadata": {
      "needs_background": "light"
     },
     "output_type": "display_data"
    }
   ],
   "source": [
    "# Generate a bar plot showing the number of mice per time point for each treatment throughout the course of the study using pyplot.\n",
    "#pyplot\n",
    "barval = tm_ct[\"Number of Datapoints\"]\n",
    "barlab = tm_ct.index\n",
    "y_pos = np.arange(len(barlab))\n",
    "\n",
    "plt.bar(y_pos, barval)\n",
    "plt.xticks(y_pos, barlab)\n",
    "plt.xlabel(\"Drug Regimen\")\n",
    "plt.ylabel(\"Number of Datapoints\")\n",
    "\n",
    "plt.show()"
   ]
  },
  {
   "cell_type": "markdown",
   "metadata": {},
   "source": [
    "## Pie Plots"
   ]
  },
  {
   "cell_type": "code",
   "execution_count": 29,
   "metadata": {},
   "outputs": [
    {
     "data": {
      "image/png": "[encoded data removed]",
      "text/plain": [
       "<Figure size 432x288 with 1 Axes>"
      ]
     },
     "metadata": {},
     "output_type": "display_data"
    }
   ],
   "source": [
    "# Generate a pie plot showing the distribution of female versus male mice using pandas\n",
    "piecopy = combo_mice.copy()\n",
    "\n",
    "#establish counts\n",
    "sex_ct = piecopy[[\"Sex\", \"Timepoint\"]]\n",
    "sex_ct.set_index(\"Sex\", drop=True, inplace=True)\n",
    "sexct = sex_ct.groupby(\"Sex\")[\"Timepoint\"].count().to_frame()\n",
    "sexct.rename(columns = {\"Timepoint\":\"Number of Datapoints\"}, inplace = True)\n",
    "sexct.sort_values(by=\"Number of Datapoints\", ascending=False,inplace = True)\n",
    "\n",
    "sxct2 = sexct.plot.pie(y=\"Number of Datapoints\")"
   ]
  },
  {
   "cell_type": "code",
   "execution_count": 30,
   "metadata": {},
   "outputs": [
    {
     "data": {
      "image/png": "[encoded data removed]",
      "text/plain": [
       "<Figure size 432x288 with 1 Axes>"
      ]
     },
     "metadata": {},
     "output_type": "display_data"
    }
   ],
   "source": [
    "# Generate a pie plot showing the distribution of female versus male mice using pyplot\n",
    "\n",
    "#pyplot\n",
    "sex_ls = sexct.index\n",
    "sx_vals = sexct[\"Number of Datapoints\"]\n",
    "colors = [\"blue\", \"orange\"]\n",
    "\n",
    "plt.pie(sx_vals, labels=sex_ls, colors=colors, autopct=\"%1.1f%%\")\n",
    "plt.ylabel(\"Sex\")\n",
    "plt.show()"
   ]
  },
  {
   "cell_type": "markdown",
   "metadata": {},
   "source": [
    "## Quartiles, Outliers and Boxplots"
   ]
  },
  {
   "cell_type": "code",
   "execution_count": 115,
   "metadata": {},
   "outputs": [
    {
     "ename": "ValueError",
     "evalue": "Can only tuple-index with a MultiIndex",
     "output_type": "error",
     "traceback": [
      "\u001b[0;31m---------------------------------------------------------------------------\u001b[0m",
      "\u001b[0;31mValueError\u001b[0m                                Traceback (most recent call last)",
      "\u001b[0;32m<ipython-input-115-e77fff4f987b>\u001b[0m in \u001b[0;36m<module>\u001b[0;34m\u001b[0m\n\u001b[1;32m     20\u001b[0m \u001b[0mram_ub\u001b[0m \u001b[0;34m=\u001b[0m \u001b[0mramuq\u001b[0m \u001b[0;34m+\u001b[0m \u001b[0;34m(\u001b[0m\u001b[0;36m1.5\u001b[0m\u001b[0;34m*\u001b[0m\u001b[0mram_iqr\u001b[0m\u001b[0;34m)\u001b[0m\u001b[0;34m\u001b[0m\u001b[0;34m\u001b[0m\u001b[0m\n\u001b[1;32m     21\u001b[0m \u001b[0;34m\u001b[0m\u001b[0m\n\u001b[0;32m---> 22\u001b[0;31m \u001b[0mramouts\u001b[0m \u001b[0;34m=\u001b[0m \u001b[0mrams\u001b[0m\u001b[0;34m.\u001b[0m\u001b[0miloc\u001b[0m\u001b[0;34m[\u001b[0m\u001b[0;34m(\u001b[0m\u001b[0mrams\u001b[0m\u001b[0;34m[\u001b[0m\u001b[0;34m:\u001b[0m\u001b[0;34m,\u001b[0m\u001b[0;36m0\u001b[0m\u001b[0;34m]\u001b[0m \u001b[0;34m<\u001b[0m \u001b[0mram_lb\u001b[0m\u001b[0;34m)\u001b[0m \u001b[0;34m|\u001b[0m \u001b[0;34m(\u001b[0m\u001b[0mrams\u001b[0m\u001b[0;34m[\u001b[0m\u001b[0;34m:\u001b[0m\u001b[0;34m,\u001b[0m\u001b[0;36m0\u001b[0m\u001b[0;34m]\u001b[0m \u001b[0;34m>\u001b[0m \u001b[0mram_ub\u001b[0m\u001b[0;34m)\u001b[0m\u001b[0;34m]\u001b[0m\u001b[0;34m\u001b[0m\u001b[0;34m\u001b[0m\u001b[0m\n\u001b[0m\u001b[1;32m     23\u001b[0m \u001b[0;34m\u001b[0m\u001b[0m\n",
      "\u001b[0;32m/opt/anaconda3/envs/PythonData/lib/python3.8/site-packages/pandas/core/series.py\u001b[0m in \u001b[0;36m__getitem__\u001b[0;34m(self, key)\u001b[0m\n\u001b[1;32m    908\u001b[0m             \u001b[0mkey\u001b[0m \u001b[0;34m=\u001b[0m \u001b[0mcheck_bool_indexer\u001b[0m\u001b[0;34m(\u001b[0m\u001b[0mself\u001b[0m\u001b[0;34m.\u001b[0m\u001b[0mindex\u001b[0m\u001b[0;34m,\u001b[0m \u001b[0mkey\u001b[0m\u001b[0;34m)\u001b[0m\u001b[0;34m\u001b[0m\u001b[0;34m\u001b[0m\u001b[0m\n\u001b[1;32m    909\u001b[0m \u001b[0;34m\u001b[0m\u001b[0m\n\u001b[0;32m--> 910\u001b[0;31m         \u001b[0;32mreturn\u001b[0m \u001b[0mself\u001b[0m\u001b[0;34m.\u001b[0m\u001b[0m_get_with\u001b[0m\u001b[0;34m(\u001b[0m\u001b[0mkey\u001b[0m\u001b[0;34m)\u001b[0m\u001b[0;34m\u001b[0m\u001b[0;34m\u001b[0m\u001b[0m\n\u001b[0m\u001b[1;32m    911\u001b[0m \u001b[0;34m\u001b[0m\u001b[0m\n\u001b[1;32m    912\u001b[0m     \u001b[0;32mdef\u001b[0m \u001b[0m_get_with\u001b[0m\u001b[0;34m(\u001b[0m\u001b[0mself\u001b[0m\u001b[0;34m,\u001b[0m \u001b[0mkey\u001b[0m\u001b[0;34m)\u001b[0m\u001b[0;34m:\u001b[0m\u001b[0;34m\u001b[0m\u001b[0;34m\u001b[0m\u001b[0m\n",
      "\u001b[0;32m/opt/anaconda3/envs/PythonData/lib/python3.8/site-packages/pandas/core/series.py\u001b[0m in \u001b[0;36m_get_with\u001b[0;34m(self, key)\u001b[0m\n\u001b[1;32m    921\u001b[0m         \u001b[0;32melif\u001b[0m \u001b[0misinstance\u001b[0m\u001b[0;34m(\u001b[0m\u001b[0mkey\u001b[0m\u001b[0;34m,\u001b[0m \u001b[0mtuple\u001b[0m\u001b[0;34m)\u001b[0m\u001b[0;34m:\u001b[0m\u001b[0;34m\u001b[0m\u001b[0;34m\u001b[0m\u001b[0m\n\u001b[1;32m    922\u001b[0m             \u001b[0;32mtry\u001b[0m\u001b[0;34m:\u001b[0m\u001b[0;34m\u001b[0m\u001b[0;34m\u001b[0m\u001b[0m\n\u001b[0;32m--> 923\u001b[0;31m                 \u001b[0;32mreturn\u001b[0m \u001b[0mself\u001b[0m\u001b[0;34m.\u001b[0m\u001b[0m_get_values_tuple\u001b[0m\u001b[0;34m(\u001b[0m\u001b[0mkey\u001b[0m\u001b[0;34m)\u001b[0m\u001b[0;34m\u001b[0m\u001b[0;34m\u001b[0m\u001b[0m\n\u001b[0m\u001b[1;32m    924\u001b[0m             \u001b[0;32mexcept\u001b[0m \u001b[0mValueError\u001b[0m\u001b[0;34m:\u001b[0m\u001b[0;34m\u001b[0m\u001b[0;34m\u001b[0m\u001b[0m\n\u001b[1;32m    925\u001b[0m                 \u001b[0;31m# if we don't have a MultiIndex, we may still be able to handle\u001b[0m\u001b[0;34m\u001b[0m\u001b[0;34m\u001b[0m\u001b[0;34m\u001b[0m\u001b[0m\n",
      "\u001b[0;32m/opt/anaconda3/envs/PythonData/lib/python3.8/site-packages/pandas/core/series.py\u001b[0m in \u001b[0;36m_get_values_tuple\u001b[0;34m(self, key)\u001b[0m\n\u001b[1;32m    972\u001b[0m \u001b[0;34m\u001b[0m\u001b[0m\n\u001b[1;32m    973\u001b[0m         \u001b[0;32mif\u001b[0m \u001b[0;32mnot\u001b[0m \u001b[0misinstance\u001b[0m\u001b[0;34m(\u001b[0m\u001b[0mself\u001b[0m\u001b[0;34m.\u001b[0m\u001b[0mindex\u001b[0m\u001b[0;34m,\u001b[0m \u001b[0mMultiIndex\u001b[0m\u001b[0;34m)\u001b[0m\u001b[0;34m:\u001b[0m\u001b[0;34m\u001b[0m\u001b[0;34m\u001b[0m\u001b[0m\n\u001b[0;32m--> 974\u001b[0;31m             \u001b[0;32mraise\u001b[0m \u001b[0mValueError\u001b[0m\u001b[0;34m(\u001b[0m\u001b[0;34m\"Can only tuple-index with a MultiIndex\"\u001b[0m\u001b[0;34m)\u001b[0m\u001b[0;34m\u001b[0m\u001b[0;34m\u001b[0m\u001b[0m\n\u001b[0m\u001b[1;32m    975\u001b[0m \u001b[0;34m\u001b[0m\u001b[0m\n\u001b[1;32m    976\u001b[0m         \u001b[0;31m# If key is contained, would have returned by now\u001b[0m\u001b[0;34m\u001b[0m\u001b[0;34m\u001b[0m\u001b[0;34m\u001b[0m\u001b[0m\n",
      "\u001b[0;31mValueError\u001b[0m: Can only tuple-index with a MultiIndex"
     ]
    }
   ],
   "source": [
    "# Calculate the final tumor volume of each mouse across four of the most promising treatment regimens. Calculate the IQR and quantitatively determine if there are any potential outliers. \n",
    "cleanbox = cleancopy.copy()\n",
    "best_drgs = [\"Capomulin\", \"Ramicane\", \"Infubinol\", \"Ceftamin\"]\n",
    "\n",
    "#only keep last timepoint from drugs in above list\n",
    "lst_tm = cleanbox.loc[(cleanbox[\"Timepoint\"] == 45) & \\\n",
    "                      (cleanbox[\"Drug Regimen\"].isin(best_drgs))]\n",
    "\n",
    "lst_tm = lst_tm[[\"Drug Regimen\", \"Tumor Volume (mm3)\"]]\n",
    "\n",
    "#df per drug\n",
    "ram_ls = lst_tm.loc[lst_tm[\"Drug Regimen\"] == \"Ramicane\"]\n",
    "rams = ram_ls[\"Tumor Volume (mm3)\"]\n",
    "\n",
    "ram_qt = rams.quantile([.25,.5,.75])\n",
    "ramlq = ram_qt[.25]\n",
    "ramuq = ram_qt[.75]\n",
    "ram_iqr = ramuq - ramlq\n",
    "ram_lb = ramlq - (1.5*ram_iqr)\n",
    "ram_ub = ramuq + (1.5*ram_iqr)\n",
    "\n",
    "ramouts = rams.iloc[(rams[:,0] < ram_lb) | (rams[:,0] > ram_ub)]\n",
    "\n",
    "cap_ls = lst_tm.loc[lst_tm[\"Drug Regimen\"] == \"Capomulin\"]\n",
    "caps = cap_ls[\"Tumor Volume (mm3)\"]\n",
    "\n",
    "cap_qt = caps.quantile([.25,.5,.75])\n",
    "caplq = cap_qt[0.25]\n",
    "capuq = cap_qt[0.75]\n",
    "cap_iqr = capuq-caplq\n",
    "cap_lb = caplq - (1.5*cap_iqr)\n",
    "cap_ub = capuq + (1.5*cap_iqr)\n",
    "\n",
    "capouts = caps.loc[(caps[\"Tumor Volume (mm3)\"] < cap_lb) | (caps[\"Tumor Volume (mm3)\"] > cap_ub)]\n",
    "\n",
    "inf_ls = lst_tm.loc[lst_tm[\"Drug Regimen\"] == \"Infubinol\"]\n",
    "infs = inf_ls[\"Tumor Volume (mm3)\"]\n",
    "\n",
    "inf_qt = infs.quantile([.25,.5,.75])\n",
    "inflq = inf_qt[0.25]\n",
    "infuq = inf_qt[0.75]\n",
    "inf_iqr = infuq-inflq\n",
    "inf_lb = inflq - (1.5*inf_iqr)\n",
    "inf_ub = infuq + (1.5*inf_iqr)\n",
    "\n",
    "infouts = inf_ls.loc[(infs[\"Tumor Volume (mm3)\"] < inf_lb) | (infs[\"Tumor Volume (mm3)\"] > inf_ub)]\n",
    "\n",
    "\n",
    "cef_ls = lst_tm.loc[lst_tm[\"Drug Regimen\"] == \"Ceftamin\"]\n",
    "cefs = cef_ls[\"Tumor Volume (mm3)\"]\n",
    "\n",
    "cef_qt = cefs.quantile([.25,.5,.75])\n",
    "ceflq = cef_qt[0.25]\n",
    "cefuq = cef_qt[0.75]\n",
    "cef_iqr = cefuq-ceflq\n",
    "cef_lb = ceflq - (1.5*cef_iqr)\n",
    "cef_ub = cefuq + (1.5*cef_iqr)\n",
    "\n",
    "cefouts = cef_ls.loc[(cefs[\"Tumor Volume (mm3)\"] < cef_lb) | (cefs[\"Tumor Volume (mm3)\"] > cef_ub)]\n",
    "\n",
    "\n",
    "print(f\"Potential Ramicane outliers: {ramouts}, Potential Capomulin outliers: {capouts}, \\\n",
    "        Potential Infubinol outliers: {infouts}, Potential Ceftamin outliers: {cefouts}\")"
   ]
  },
  {
   "cell_type": "code",
   "execution_count": 120,
   "metadata": {},
   "outputs": [
    {
     "data": {
      "image/png": "[encoded data removed]",
      "text/plain": [
       "<Figure size 576x360 with 1 Axes>"
      ]
     },
     "metadata": {
      "needs_background": "light"
     },
     "output_type": "display_data"
    }
   ],
   "source": [
    "# Generate a box plot of the final tumor volume of each mouse across four regimens of interest\n",
    "cleaner = cleancopy.copy()\n",
    "\n",
    "\n",
    "\n",
    "best_drgs = [\"Capomulin\", \"Ramicane\", \"Infubinol\", \"Ceftamin\"]\n",
    "\n",
    "#only keep last timepoint from drugs in above list\n",
    "ls_box = cleaner.loc[(cleaner[\"Timepoint\"] == 45) & \\\n",
    "                      (cleaner[\"Drug Regimen\"].isin(best_drgs))]\n",
    "\n",
    "ls_box = ls_box[[\"Drug Regimen\", \"Tumor Volume (mm3)\"]]\n",
    "\n",
    "ram_ls = ls_box.loc[ls_box[\"Drug Regimen\"] == \"Ramicane\"]\n",
    "rams = ram_ls[\"Tumor Volume (mm3)\"]\n",
    "cap_ls = ls_box.loc[ls_box[\"Drug Regimen\"] == \"Capomulin\"]\n",
    "caps = cap_ls[\"Tumor Volume (mm3)\"]\n",
    "inf_ls = ls_box.loc[ls_box[\"Drug Regimen\"] == \"Infubinol\"]\n",
    "infs = inf_ls[\"Tumor Volume (mm3)\"]\n",
    "cef_ls = ls_box.loc[ls_box[\"Drug Regimen\"] == \"Ceftamin\"]\n",
    "cefs = cef_ls[\"Tumor Volume (mm3)\"]\n",
    "\n",
    "combo_ls = [rams, caps, infs, cefs]\n",
    "\n",
    "bpfig = plt.figure(1, figsize=(8, 5))\n",
    "\n",
    "axes = bpfig.add_subplot(111)\n",
    "axes.set_xticklabels([\"Capomulin\", \"Ramicane\", \"Infubinol\", \"Ceftamin\"])\n",
    "axes.set_ylabel(\"Final Tumor volume (mm3)\")\n",
    "\n",
    "\n",
    "bplot = axes.boxplot(combo_ls)"
   ]
  },
  {
   "cell_type": "markdown",
   "metadata": {},
   "source": [
    "## Line and Scatter Plots"
   ]
  },
  {
   "cell_type": "code",
   "execution_count": 151,
   "metadata": {},
   "outputs": [
    {
     "data": {
      "image/png": "[encoded data removed]",
      "text/plain": [
       "<Figure size 432x288 with 1 Axes>"
      ]
     },
     "metadata": {
      "needs_background": "light"
     },
     "output_type": "display_data"
    }
   ],
   "source": [
    "# Generate a line plot of time point versus tumor volume for a mouse treated with Capomulin\n",
    "lsp_df = cleancopy.copy()\n",
    "\n",
    "cap_data = lsp_df.loc[(lsp_df[\"Drug Regimen\"] == \"Capomulin\") & (lsp_df[\"Mouse ID\"] == \"l509\")]\n",
    "\n",
    "#tm_ct = cap_data.groupby(\"Timepoint\")[\"Tumor Volume (mm3)\"]\n",
    "\n",
    "\n",
    "times_ls = [0, 5, 10, 15, 20, 25, 30, 35, 40, 45]\n",
    "\n",
    "plt.plot(cap_data[\"Timepoint\"], cap_data[\"Tumor Volume (mm3)\"])\n",
    "\n",
    "plt.xlabel(\"Timepoint\")\n",
    "plt.xticks(times_ls)\n",
    "\n",
    "plt.ylabel(\"Tumor Volume (mm3)\")\n",
    "plt.ylim(40,50)\n",
    "\n",
    "plt.title(\"Capomulin treatment of mouse l509\")\n",
    "plt.show()                  \n",
    "            \n"
   ]
  },
  {
   "cell_type": "code",
   "execution_count": 195,
   "metadata": {},
   "outputs": [
    {
     "data": {
      "image/png": "[encoded data removed]",
      "text/plain": [
       "<Figure size 432x288 with 1 Axes>"
      ]
     },
     "metadata": {
      "needs_background": "light"
     },
     "output_type": "display_data"
    }
   ],
   "source": [
    "# Generate a scatter plot of mouse weight versus average tumor volume for the Capomulin regimen\n",
    "scat_df = cleancopy.copy()\n",
    "\n",
    "cap_wt = scat_df.loc[scat_df[\"Drug Regimen\"] == \"Capomulin\"]\n",
    "\n",
    "mean_tv = cap_wt.groupby(\"Weight (g)\").mean()[\"Tumor Volume (mm3)\"].to_frame()\n",
    "\n",
    "scat_plot = plt.scatter(mean_tv.index, mean_tv[\"Tumor Volume (mm3)\"])\n",
    "\n",
    "plt.xlabel(\"Weight (g)\")\n",
    "plt.ylabel(\"Average Tumor Volume\")\n",
    "plt.ylim(34,46)\n",
    "plt.title(\"Average tumor volume for mice undergoing the Capomulin regimen\")\n",
    "plt.show()\n"
   ]
  },
  {
   "cell_type": "markdown",
   "metadata": {},
   "source": [
    "## Correlation and Regression"
   ]
  },
  {
   "cell_type": "code",
   "execution_count": 198,
   "metadata": {},
   "outputs": [
    {
     "data": {
      "image/png": "[encoded data removed]",
      "text/plain": [
       "<Figure size 432x288 with 1 Axes>"
      ]
     },
     "metadata": {
      "needs_background": "light"
     },
     "output_type": "display_data"
    },
    {
     "name": "stdout",
     "output_type": "stream",
     "text": [
      "The correlation coefficient between mouse weight and average     tumor volume for the Capomulin regimen is 0.95\n"
     ]
    }
   ],
   "source": [
    "# Calculate the correlation coefficient and linear regression model \n",
    "# for mouse weight and average tumor volume for the Capomulin regimen\n",
    "\n",
    "wt_ind = mean_tv.index\n",
    "\n",
    "tv_ind = mean_tv[\"Tumor Volume (mm3)\"]\n",
    "\n",
    "corr_plot = plt.scatter(wt_ind, tv_ind)\n",
    "\n",
    "m, b = np.polyfit(wt_ind, tv_ind, 1)\n",
    "\n",
    "plt.xlabel(\"Mouse Weight (g)\")\n",
    "plt.ylabel(\"Average Tumor Volume\")\n",
    "plt.ylim(34,46)\n",
    "plt.title(\"Average tumor volume for mice undergoing the Capomulin regimen\")\n",
    "\n",
    "plt.plot(wt_ind, m * wt_ind + b)\n",
    "\n",
    "plt.show()\n",
    "\n",
    "print(f\"The correlation coefficient between mouse weight and average \\\n",
    "    tumor volume for the Capomulin regimen is {round(st.pearsonr(wt_ind,tv_ind)[0],2)}\")"
   ]
  },
  {
   "cell_type": "code",
   "execution_count": null,
   "metadata": {},
   "outputs": [],
   "source": []
  }
 ],
 "metadata": {
  "anaconda-cloud": {},
  "kernelspec": {
   "display_name": "PythonData",
   "language": "python",
   "name": "pythondata"
  },
  "language_info": {
   "codemirror_mode": {
    "name": "ipython",
    "version": 3
   },
   "file_extension": ".py",
   "mimetype": "text/x-python",
   "name": "python",
   "nbconvert_exporter": "python",
   "pygments_lexer": "ipython3",
   "version": "3.8.2"
  }
 },
 "nbformat": 4,
 "nbformat_minor": 4
}
